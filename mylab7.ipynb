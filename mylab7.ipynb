{
 "cells": [
  {
   "cell_type": "code",
   "execution_count": 4,
   "metadata": {},
   "outputs": [
    {
     "name": "stdout",
     "output_type": "stream",
     "text": [
      "True\n",
      "324357791 324357793\n",
      "115\n",
      "Elliptic Curve defined by y^2 = x^3 + 1931*x + 3258 over Ring of integers modulo 13231\n",
      "(10146 : 2458 : 1)\n",
      "131\n",
      "Time elapsed:  0.0225989818573\n"
     ]
    }
   ],
   "source": [
    "from random import randint\n",
    "import time\n",
    "\n",
    "def mul(n, P, k):\n",
    "    r = P-P\n",
    "    while k > 0:\n",
    "        if k % 2 == 1:\n",
    "            if r != P: # если точки не совпадают, рассматривается значенатель лямбды\n",
    "                d = gcd(n,r[0]-P[0]) # разность -это НОД(n,лямбда) лямбда - это уголовой коэфициент. Это алгоритм евклида, нашли делитель n\n",
    "                if d > 1:\n",
    "                    print d\n",
    "                    return d, P-P\n",
    "            else: # если точки равны, то происходит удвоение -  2y, суммирование\n",
    "                d = gcd(n,2*P[1])\n",
    "                if d > 1:\n",
    "                    print d\n",
    "                    return d, P-P\n",
    "            r += P\n",
    "        d = gcd(n,2*P[1]) # все четные 2P, 4P обрабатываются здесь. Если точки совпадают -это равносильно удвоению точки\n",
    "        if d > 1:\n",
    "            print d\n",
    "            return d\n",
    "        P += P\n",
    "        k //= 2\n",
    "    return 1, r\n",
    "\n",
    "def fact(n):\n",
    "    B1 = int(sqrt(n)) # выберем некоторое значение B #1\n",
    "    print B1\n",
    "    while True:\n",
    "        while True:\n",
    "            x = randint(0,n) # 2 \n",
    "            y = randint(0,n) # 2\n",
    "            a = randint(0,n) # 2\n",
    "            b = (y^2 - x^3 - a*x) % n # 3\n",
    "            g = gcd(n, 4*a^3+27*b^2) # 3 дискриминант кривой\n",
    "            if 1 < g < n: # прекращаем вычисление - делитель найден\n",
    "                print g\n",
    "                return\n",
    "            elif g != n: # иначе выходим из цикла и определяем кривую E\n",
    "                break # а если g=n , то цикл начинается занаво\n",
    "        E = EllipticCurve(Integers(n),[a,b]) #  создаем кривую\n",
    "        P0 = E(x,y) # выбираем точку-генератор, какая-то точка на кривой\n",
    "        print E\n",
    "        print P0\n",
    "        P = P0  # 4 изменяемый в цикле P получает начальное значение P0\n",
    "        for p in Primes():\n",
    "            if p > B1:\n",
    "                break\n",
    "            p0=p\n",
    "            p*=p0\n",
    "            while p < B1:\n",
    "                p*=p0 # счётчик , в первый раз простое число число - это 2. Она берется примерно sqrt(n) раз так как это и есть B1, потом берется 3\n",
    "                d, P = mul(n, P, p0) # умножаем простое число на точку\n",
    "                if d > 1:\n",
    "                    return\n",
    "        print \"Here\"\n",
    "        B=int(1.1*B) # если искомый делитель не найден, увеличиваем B\n",
    "\n",
    "print 149214232506424542174925348284318841489945784970035027525113607508250685338943431922983980532462290515556139731350769228904305416335969980621479083303784645874550630372919514547214912087146613377262988211510755586536793719098461155338440558735274461233340699138678962102192527578531895495805504891535016220599 in Primes()\n",
    "k = 2**34\n",
    "c = randint(int(sqrt(k)),k)\n",
    "p = next_prime(c)\n",
    "q = next_prime(p)\n",
    "print p,q\n",
    "start = time.time()\n",
    "temp=101*131\n",
    "fact(temp)\n",
    "end = time.time()\n",
    "print \"Time elapsed: \", end - start\n"
   ]
  },
  {
   "cell_type": "code",
   "execution_count": null,
   "metadata": {},
   "outputs": [],
   "source": []
  }
 ],
 "metadata": {
  "kernelspec": {
   "display_name": "SageMath 8.4",
   "language": "",
   "name": "sagemath"
  },
  "language_info": {
   "codemirror_mode": {
    "name": "ipython",
    "version": 2
   },
   "file_extension": ".py",
   "mimetype": "text/x-python",
   "name": "python",
   "nbconvert_exporter": "python",
   "pygments_lexer": "ipython2",
   "version": "2.7.15"
  }
 },
 "nbformat": 4,
 "nbformat_minor": 2
}
